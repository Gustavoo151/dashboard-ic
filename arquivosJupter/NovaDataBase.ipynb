{
 "cells": [
  {
   "cell_type": "code",
   "outputs": [],
   "source": [],
   "metadata": {
    "collapsed": false,
    "ExecuteTime": {
     "end_time": "2024-03-05T01:10:26.598791Z",
     "start_time": "2024-03-05T01:10:25.054536Z"
    }
   },
   "id": "8e8b51e947722fa5",
   "execution_count": 2
  },
  {
   "cell_type": "markdown",
   "source": [
    "Retorna a População da Cidade"
   ],
   "metadata": {
    "collapsed": false
   },
   "id": "7f62e1134c3a3e20"
  },
  {
   "cell_type": "code",
   "outputs": [
    {
     "name": "stdout",
     "output_type": "stream",
     "text": [
      "{'localidade': {'id': '2604106', 'nivel': {'id': 'N6', 'nome': 'Município'}, 'nome': 'Caruaru (PE)'}, 'serie': {'2022': '378048'}}\n",
      "2604106 Caruaru (PE) 378048\n"
     ]
    }
   ],
   "source": [
    "import requests\n",
    "\n",
    "link = \"https://servicodados.ibge.gov.br/api/v3/agregados/4709/periodos/2022/variaveis/93?localidades=N6[2604106]\"\n",
    "\n",
    "response = requests.get(link)\n",
    "informacoes = response.json()\n",
    "\n",
    "dadosCidade = informacoes[0]['resultados'][0]['series'][0]\n",
    "\n",
    "codCidade = dadosCidade['localidade']['id']\n",
    "nomeCidade  = dadosCidade['localidade']['nome']\n",
    "\n",
    "print(codCidade, nomeCidade )\n"
   ],
   "metadata": {
    "collapsed": false,
    "ExecuteTime": {
     "end_time": "2024-03-20T16:05:06.109621Z",
     "start_time": "2024-03-20T16:05:05.657966Z"
    }
   },
   "id": "81e76041cab3b228",
   "execution_count": 22
  },
  {
   "cell_type": "code",
   "outputs": [
    {
     "name": "stdout",
     "output_type": "stream",
     "text": [
      "[{'id': '93',\n",
      "  'resultados': [{'classificacoes': [],\n",
      "                  'series': [{'localidade': {'id': '2604106',\n",
      "                                             'nivel': {'id': 'N6',\n",
      "                                                       'nome': 'Município'},\n",
      "                                             'nome': 'Caruaru (PE)'},\n",
      "                              'serie': {'2022': '378048'}}]}],\n",
      "  'unidade': 'Pessoas',\n",
      "  'variavel': 'População residente'}]\n"
     ]
    }
   ],
   "source": [
    "import pprint\n",
    "import requests\n",
    "# link = \"https://servicodados.ibge.gov.br/api/v3/agregados/354/periodos/2008/variaveis/1002597?localidades=N6[2604106]&classificacao=12963[120931]\"\n",
    "\n",
    "link = \"https://servicodados.ibge.gov.br/api/v3/agregados/9514/periodos/2022/variaveis/93?localidades=N6[2604106]&classificacao=2[4,5]|287[100362]|286[113635]\"\n",
    "\n",
    "response2 = requests.get(link)\n",
    "informacoes2 = response.json()\n",
    "\n",
    "pprint.pprint(informacoes)"
   ],
   "metadata": {
    "collapsed": false,
    "ExecuteTime": {
     "end_time": "2024-03-20T16:04:59.317629Z",
     "start_time": "2024-03-20T16:04:58.694906Z"
    }
   },
   "id": "ed7e276abdc420b9",
   "execution_count": 21
  },
  {
   "cell_type": "code",
   "outputs": [
    {
     "ename": "ModuleNotFoundError",
     "evalue": "No module named 'dash_bootstrap_components'",
     "output_type": "error",
     "traceback": [
      "\u001B[1;31m---------------------------------------------------------------------------\u001B[0m",
      "\u001B[1;31mModuleNotFoundError\u001B[0m                       Traceback (most recent call last)",
      "Cell \u001B[1;32mIn[14], line 2\u001B[0m\n\u001B[0;32m      1\u001B[0m \u001B[38;5;28;01mimport\u001B[39;00m \u001B[38;5;21;01mdash\u001B[39;00m\n\u001B[1;32m----> 2\u001B[0m \u001B[38;5;28;01mimport\u001B[39;00m \u001B[38;5;21;01mdash_bootstrap_components\u001B[39;00m \u001B[38;5;28;01mas\u001B[39;00m \u001B[38;5;21;01mdbc\u001B[39;00m\n\u001B[0;32m      4\u001B[0m app \u001B[38;5;241m=\u001B[39m dash\u001B[38;5;241m.\u001B[39mDash(external_stylesheets\u001B[38;5;241m=\u001B[39m[dbc\u001B[38;5;241m.\u001B[39mthemes\u001B[38;5;241m.\u001B[39mBOOTSTRAP])\n\u001B[0;32m      6\u001B[0m app\u001B[38;5;241m.\u001B[39mlayout \u001B[38;5;241m=\u001B[39m dbc\u001B[38;5;241m.\u001B[39mContainer(\n\u001B[0;32m      7\u001B[0m     dbc\u001B[38;5;241m.\u001B[39mAlert(\u001B[38;5;124m\"\u001B[39m\u001B[38;5;124mHello Bootstrap!\u001B[39m\u001B[38;5;124m\"\u001B[39m, color\u001B[38;5;241m=\u001B[39m\u001B[38;5;124m\"\u001B[39m\u001B[38;5;124msuccess\u001B[39m\u001B[38;5;124m\"\u001B[39m),\n\u001B[0;32m      8\u001B[0m     className\u001B[38;5;241m=\u001B[39m\u001B[38;5;124m\"\u001B[39m\u001B[38;5;124mp-5\u001B[39m\u001B[38;5;124m\"\u001B[39m,\n\u001B[0;32m      9\u001B[0m )\n",
      "\u001B[1;31mModuleNotFoundError\u001B[0m: No module named 'dash_bootstrap_components'"
     ]
    }
   ],
   "source": [
    "import dash\n",
    "import dash_bootstrap_components as dbc\n",
    "\n",
    "app = dash.Dash(external_stylesheets=[dbc.themes.BOOTSTRAP])\n",
    "\n",
    "app.layout = dbc.Container(\n",
    "    dbc.Alert(\"Hello Bootstrap!\", color=\"success\"),\n",
    "    className=\"p-5\",\n",
    ")\n",
    "\n",
    "if __name__ == \"__main__\":\n",
    "    app.run_server()"
   ],
   "metadata": {
    "collapsed": false,
    "ExecuteTime": {
     "end_time": "2024-03-05T21:09:47.863845Z",
     "start_time": "2024-03-05T21:09:46.111001Z"
    }
   },
   "id": "7a39a347eaa20d8b",
   "execution_count": 14
  },
  {
   "cell_type": "code",
   "outputs": [
    {
     "name": "stdout",
     "output_type": "stream",
     "text": [
      "C:\\Users\\joseg\\AppData\\Local\\Programs\\Python\\Python311\\python.exe\n"
     ]
    }
   ],
   "source": [
    "import sys\n",
    "print(sys.executable)"
   ],
   "metadata": {
    "collapsed": false,
    "ExecuteTime": {
     "end_time": "2024-03-05T21:10:50.897430Z",
     "start_time": "2024-03-05T21:10:50.892980Z"
    }
   },
   "id": "2f7f5dea76b49ec0",
   "execution_count": 16
  },
  {
   "cell_type": "code",
   "outputs": [
    {
     "data": {
      "text/plain": "{'id': '1100015',\n 'name': \"Alta Floresta D'Oeste\",\n 'description': \"Alta Floresta D'Oeste\"}"
     },
     "execution_count": 49,
     "metadata": {},
     "output_type": "execute_result"
    }
   ],
   "source": [
    "import json\n",
    "import pandas as pd\n",
    "import plotly.express as px\n",
    "\n",
    "\n",
    "mapalocation = json.load(open('geojs-100-mun.json', 'r', encoding='utf-8'))\n",
    "\n",
    "# mapalocation['features'][0]['properties']\n",
    "estados = mapalocation['features']\n",
    "app = dash.Dash(__name__, external_stylesheets=[dbc.themes.BOOTSTRAP])\n",
    "\n",
    "fig = px.choropleth_mapbox(geojson=mapalocation, locations='id', color='populacao', featureidkey=\"properties.id\",\n",
    "                           center={\"lat\": -14.24, \"lon\": -53.18},\n",
    "                           mapbox_style=\"carto-positron\", zoom=3)"
   ],
   "metadata": {
    "collapsed": false,
    "ExecuteTime": {
     "end_time": "2024-03-06T07:23:43.572440Z",
     "start_time": "2024-03-06T07:23:16.131192Z"
    }
   },
   "id": "b449341820d3bfa7",
   "execution_count": 49
  },
  {
   "cell_type": "code",
   "outputs": [
    {
     "data": {
      "text/plain": "                type                                           features\n0  FeatureCollection  {'type': 'Feature', 'properties': {'id': '1100...\n1  FeatureCollection  {'type': 'Feature', 'properties': {'id': '1100...\n2  FeatureCollection  {'type': 'Feature', 'properties': {'id': '1100...\n3  FeatureCollection  {'type': 'Feature', 'properties': {'id': '1100...\n4  FeatureCollection  {'type': 'Feature', 'properties': {'id': '1100...",
      "text/html": "<div>\n<style scoped>\n    .dataframe tbody tr th:only-of-type {\n        vertical-align: middle;\n    }\n\n    .dataframe tbody tr th {\n        vertical-align: top;\n    }\n\n    .dataframe thead th {\n        text-align: right;\n    }\n</style>\n<table border=\"1\" class=\"dataframe\">\n  <thead>\n    <tr style=\"text-align: right;\">\n      <th></th>\n      <th>type</th>\n      <th>features</th>\n    </tr>\n  </thead>\n  <tbody>\n    <tr>\n      <th>0</th>\n      <td>FeatureCollection</td>\n      <td>{'type': 'Feature', 'properties': {'id': '1100...</td>\n    </tr>\n    <tr>\n      <th>1</th>\n      <td>FeatureCollection</td>\n      <td>{'type': 'Feature', 'properties': {'id': '1100...</td>\n    </tr>\n    <tr>\n      <th>2</th>\n      <td>FeatureCollection</td>\n      <td>{'type': 'Feature', 'properties': {'id': '1100...</td>\n    </tr>\n    <tr>\n      <th>3</th>\n      <td>FeatureCollection</td>\n      <td>{'type': 'Feature', 'properties': {'id': '1100...</td>\n    </tr>\n    <tr>\n      <th>4</th>\n      <td>FeatureCollection</td>\n      <td>{'type': 'Feature', 'properties': {'id': '1100...</td>\n    </tr>\n  </tbody>\n</table>\n</div>"
     },
     "execution_count": 26,
     "metadata": {},
     "output_type": "execute_result"
    }
   ],
   "source": [
    "import pandas as pd\n",
    "import plotly.express as px\n",
    "\n",
    "# Abra o arquivo json com a codificação correta\n",
    "with open('geojs-100-mun.json', 'r', encoding='utf-8') as f:\n",
    "    brasil_location = json.load(f)\n",
    "\n",
    "df = pd.read_json('geojs-100-mun.json', encoding='utf-8')\n",
    "df.head()"
   ],
   "metadata": {
    "collapsed": false,
    "ExecuteTime": {
     "end_time": "2024-03-06T06:27:47.073649Z",
     "start_time": "2024-03-06T06:27:45.447458Z"
    }
   },
   "id": "151a93b9e247e225",
   "execution_count": 26
  },
  {
   "cell_type": "code",
   "outputs": [
    {
     "name": "stdout",
     "output_type": "stream",
     "text": [
      "92.7450324\n"
     ]
    },
    {
     "data": {
      "text/plain": "Index(['Base', 'D', 'Dp', 'Dn', 'DpPorcento', 'DnPorcento', 'I', 'A',\n       'DPorcento'],\n      dtype='object')"
     },
     "execution_count": 45,
     "metadata": {},
     "output_type": "execute_result"
    }
   ],
   "source": [
    "import json \n",
    "import pandas as pd\n",
    "\n",
    "df = pd.read_csv('base_com_dados_geral.csv')\n",
    "\n",
    "df_filtrado = df[df['Base'] == 'all']\n",
    "\n",
    "# print(f'{df_filtrado[\"DpPorcento\"].iloc[0]:.2f}')\n",
    "print(f'{df_filtrado[\"DnPorcento\"].iloc[0]}')\n",
    "df_filtrado.keys()"
   ],
   "metadata": {
    "collapsed": false,
    "ExecuteTime": {
     "end_time": "2024-03-07T01:22:32.338089Z",
     "start_time": "2024-03-07T01:22:32.328615Z"
    }
   },
   "id": "2eb91d27bbf81d97",
   "execution_count": 45
  },
  {
   "cell_type": "code",
   "outputs": [
    {
     "data": {
      "text/plain": "   id                                        description      TP       FP  \\\n0   1                 nascimento hostipal,consultas: 4-6  144933  1464535   \n1   2                     destino lixo: coletado,sexo: F  162198  1778807   \n2   3                                     consultas: 1-3   51522   375663   \n3   4  escoamento sanitário: rede coletora,concultas:...   64446   542516   \n4   5        água canalizada: sim, sexo: F,consultas:4-6   62542   542123   \n5   6                             primeira gestação: sim  115786  1227271   \n6   7     abastecimento água: rede pública,parto cesária  141937  1631146   \n7   8                calçamento domicílio: total,BF: não  161949  1890877   \n8   9     abastecimento água: rede pública, mãe solteira  144524  1683585   \n9  10                                     idade mãe < 20   82400   913572   \n\n       lift    sup(+)      conf  \n0  1.241222  0.381081  0.090050  \n1  1.151817  0.426477  0.083564  \n2  1.662422  0.135470  0.120608  \n3  1.463521  0.169452  0.106178  \n4  1.425678  0.164445  0.103432  \n5  1.188300  0.304443  0.086211  \n6  1.103395  0.373203  0.080051  \n7  1.087403  0.425822  0.078891  \n8  1.089689  0.380005  0.079057  \n9  1.140367  0.216659  0.082733  ",
      "text/html": "<div>\n<style scoped>\n    .dataframe tbody tr th:only-of-type {\n        vertical-align: middle;\n    }\n\n    .dataframe tbody tr th {\n        vertical-align: top;\n    }\n\n    .dataframe thead th {\n        text-align: right;\n    }\n</style>\n<table border=\"1\" class=\"dataframe\">\n  <thead>\n    <tr style=\"text-align: right;\">\n      <th></th>\n      <th>id</th>\n      <th>description</th>\n      <th>TP</th>\n      <th>FP</th>\n      <th>lift</th>\n      <th>sup(+)</th>\n      <th>conf</th>\n    </tr>\n  </thead>\n  <tbody>\n    <tr>\n      <th>0</th>\n      <td>1</td>\n      <td>nascimento hostipal,consultas: 4-6</td>\n      <td>144933</td>\n      <td>1464535</td>\n      <td>1.241222</td>\n      <td>0.381081</td>\n      <td>0.090050</td>\n    </tr>\n    <tr>\n      <th>1</th>\n      <td>2</td>\n      <td>destino lixo: coletado,sexo: F</td>\n      <td>162198</td>\n      <td>1778807</td>\n      <td>1.151817</td>\n      <td>0.426477</td>\n      <td>0.083564</td>\n    </tr>\n    <tr>\n      <th>2</th>\n      <td>3</td>\n      <td>consultas: 1-3</td>\n      <td>51522</td>\n      <td>375663</td>\n      <td>1.662422</td>\n      <td>0.135470</td>\n      <td>0.120608</td>\n    </tr>\n    <tr>\n      <th>3</th>\n      <td>4</td>\n      <td>escoamento sanitário: rede coletora,concultas:...</td>\n      <td>64446</td>\n      <td>542516</td>\n      <td>1.463521</td>\n      <td>0.169452</td>\n      <td>0.106178</td>\n    </tr>\n    <tr>\n      <th>4</th>\n      <td>5</td>\n      <td>água canalizada: sim, sexo: F,consultas:4-6</td>\n      <td>62542</td>\n      <td>542123</td>\n      <td>1.425678</td>\n      <td>0.164445</td>\n      <td>0.103432</td>\n    </tr>\n    <tr>\n      <th>5</th>\n      <td>6</td>\n      <td>primeira gestação: sim</td>\n      <td>115786</td>\n      <td>1227271</td>\n      <td>1.188300</td>\n      <td>0.304443</td>\n      <td>0.086211</td>\n    </tr>\n    <tr>\n      <th>6</th>\n      <td>7</td>\n      <td>abastecimento água: rede pública,parto cesária</td>\n      <td>141937</td>\n      <td>1631146</td>\n      <td>1.103395</td>\n      <td>0.373203</td>\n      <td>0.080051</td>\n    </tr>\n    <tr>\n      <th>7</th>\n      <td>8</td>\n      <td>calçamento domicílio: total,BF: não</td>\n      <td>161949</td>\n      <td>1890877</td>\n      <td>1.087403</td>\n      <td>0.425822</td>\n      <td>0.078891</td>\n    </tr>\n    <tr>\n      <th>8</th>\n      <td>9</td>\n      <td>abastecimento água: rede pública, mãe solteira</td>\n      <td>144524</td>\n      <td>1683585</td>\n      <td>1.089689</td>\n      <td>0.380005</td>\n      <td>0.079057</td>\n    </tr>\n    <tr>\n      <th>9</th>\n      <td>10</td>\n      <td>idade mãe &lt; 20</td>\n      <td>82400</td>\n      <td>913572</td>\n      <td>1.140367</td>\n      <td>0.216659</td>\n      <td>0.082733</td>\n    </tr>\n  </tbody>\n</table>\n</div>"
     },
     "execution_count": 47,
     "metadata": {},
     "output_type": "execute_result"
    }
   ],
   "source": [
    "import pandas as pd\n",
    "\n",
    "df = pd.read_csv('subgrupos_geral.csv')\n",
    "\n",
    "df"
   ],
   "metadata": {
    "collapsed": false,
    "ExecuteTime": {
     "end_time": "2024-03-07T02:38:46.593630Z",
     "start_time": "2024-03-07T02:38:46.535707Z"
    }
   },
   "id": "54f1df790f5023f4",
   "execution_count": 47
  },
  {
   "cell_type": "code",
   "outputs": [],
   "source": [],
   "metadata": {
    "collapsed": false,
    "ExecuteTime": {
     "end_time": "2024-03-07T00:03:23.721044Z",
     "start_time": "2024-03-07T00:03:23.717960Z"
    }
   },
   "id": "c3d06f03a5e5cc67",
   "execution_count": 24
  },
  {
   "cell_type": "code",
   "outputs": [],
   "source": [],
   "metadata": {
    "collapsed": false
   },
   "id": "12f879e3b1b23db4"
  }
 ],
 "metadata": {
  "kernelspec": {
   "display_name": "Python 3",
   "language": "python",
   "name": "python3"
  },
  "language_info": {
   "codemirror_mode": {
    "name": "ipython",
    "version": 2
   },
   "file_extension": ".py",
   "mimetype": "text/x-python",
   "name": "python",
   "nbconvert_exporter": "python",
   "pygments_lexer": "ipython2",
   "version": "2.7.6"
  }
 },
 "nbformat": 4,
 "nbformat_minor": 5
}
